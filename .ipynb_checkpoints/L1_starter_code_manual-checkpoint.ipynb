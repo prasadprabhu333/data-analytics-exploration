{
 "cells": [
  {
   "cell_type": "code",
   "execution_count": 9,
   "metadata": {},
   "outputs": [
    {
     "name": "stdout",
     "output_type": "stream",
     "text": [
      "{u'status': u'canceled', u'is_udacity': u'True', u'is_canceled': u'True', u'join_date': u'2014-11-10', u'account_key': u'448', u'cancel_date': u'2015-01-14', u'days_to_cancel': u'65'}\n",
      "{u'lessons_completed': u'0.0', u'num_courses_visited': u'1.0', u'total_minutes_visited': u'11.6793745', u'projects_completed': u'0.0', u'acct': u'0', u'utc_date': u'2015-01-09'}\n",
      "{u'lesson_key': u'3176718735', u'processing_state': u'EVALUATED', u'account_key': u'256', u'assigned_rating': u'UNGRADED', u'completion_date': u'2015-01-16', u'creation_date': u'2015-01-14'}\n"
     ]
    }
   ],
   "source": [
    "import unicodecsv\n",
    "\n",
    "def read_csv(filename):\n",
    "    with open(filename, 'rb') as f:\n",
    "        reader = unicodecsv.DictReader(f)\n",
    "        return list(reader)\n",
    "\n",
    "\n",
    "\n",
    "enrollments = read_csv('enrollments.csv')\n",
    "\n",
    "daily_engagement = read_csv('daily_engagement.csv')\n",
    "\n",
    "project_submissions = read_csv('project_submissions.csv')    \n",
    "\n",
    "print enrollments[0]\n",
    "print daily_engagement[0]\n",
    "\n",
    "print project_submissions[0]\n",
    "\n",
    "\n"
   ]
  },
  {
   "cell_type": "code",
   "execution_count": 17,
   "metadata": {},
   "outputs": [
    {
     "name": "stdout",
     "output_type": "stream",
     "text": [
      "enrollment_num_rows: 1640\n",
      "enrollment_num_unique_students: 1302\n",
      "engagement_num_rows: 136240\n",
      "engagement_num_unique_students: 1237\n",
      "submission_num_rows: 3642\n",
      "submission_num_unique_students: 743\n"
     ]
    }
   ],
   "source": [
    "enrollment_num_rows = len(enrollments)\n",
    "print 'enrollment_num_rows:',enrollment_num_rows\n",
    "enrollments_unique_students = set()\n",
    "for enrollment in enrollments:\n",
    "    enrollments_unique_students.add(enrollment['account_key'])\n",
    "enrollment_num_unique_students = len(enrollments_unique_students)\n",
    "print 'enrollment_num_unique_students:', enrollment_num_unique_students\n",
    "\n",
    "\n",
    "engagement_num_rows = len(daily_engagement)\n",
    "engagement_unique_students = set()\n",
    "for engagement in daily_engagement:\n",
    "    engagement_unique_students.add(engagement['acct'])\n",
    "engagement_num_unique_students = len(engagement_unique_students)\n",
    "print 'engagement_num_rows:',engagement_num_rows\n",
    "print 'engagement_num_unique_students:', engagement_num_unique_students\n",
    "\n",
    "submission_num_rows = len(project_submissions) \n",
    "submissions_unique_students = set()\n",
    "for submission in project_submissions:\n",
    "    submissions_unique_students.add(submission['account_key'])\n",
    "submission_num_unique_students = len(submissions_unique_students)\n",
    "print 'submission_num_rows:', submission_num_rows\n",
    "print 'submission_num_unique_students:', submission_num_unique_students\n",
    "\n"
   ]
  },
  {
   "cell_type": "code",
   "execution_count": 8,
   "metadata": {},
   "outputs": [
    {
     "data": {
      "text/plain": [
       "{u'account_key': u'256',\n",
       " u'assigned_rating': u'UNGRADED',\n",
       " u'completion_date': u'2015-01-16',\n",
       " u'creation_date': u'2015-01-14',\n",
       " u'lesson_key': u'3176718735',\n",
       " u'processing_state': u'EVALUATED'}"
      ]
     },
     "execution_count": 8,
     "metadata": {},
     "output_type": "execute_result"
    }
   ],
   "source": []
  },
  {
   "cell_type": "code",
   "execution_count": null,
   "metadata": {},
   "outputs": [],
   "source": []
  }
 ],
 "metadata": {
  "kernelspec": {
   "display_name": "Python 2",
   "language": "python",
   "name": "python2"
  },
  "language_info": {
   "codemirror_mode": {
    "name": "ipython",
    "version": 2
   },
   "file_extension": ".py",
   "mimetype": "text/x-python",
   "name": "python",
   "nbconvert_exporter": "python",
   "pygments_lexer": "ipython2",
   "version": "2.7.18"
  }
 },
 "nbformat": 4,
 "nbformat_minor": 2
}
